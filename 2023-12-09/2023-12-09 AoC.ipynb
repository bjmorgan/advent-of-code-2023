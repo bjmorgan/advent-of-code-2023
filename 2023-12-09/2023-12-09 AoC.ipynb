{
 "cells": [
  {
   "cell_type": "markdown",
   "id": "cae065e1",
   "metadata": {},
   "source": [
    "# Day 9\n",
    "\n",
    "https://adventofcode.com/2023/day/9"
   ]
  },
  {
   "cell_type": "code",
   "execution_count": 129,
   "id": "f828651e",
   "metadata": {},
   "outputs": [],
   "source": [
    "import numpy as np\n",
    "from scipy.interpolate import lagrange\n",
    "\n",
    "def read_data(filename: str) -> list[list[int]]:\n",
    "    with open(filename, 'r') as f:\n",
    "        return np.array([list(map(int, line.strip().split())) for line in f.readlines()])\n",
    "\n",
    "def extrapolate(sequence: np.ndarray) -> int:\n",
    "    seq = sequence\n",
    "    ext = seq[-1]\n",
    "    while np.any(seq != 0):\n",
    "        seq = np.diff(seq)\n",
    "        ext += seq[-1]\n",
    "    return ext\n",
    "\n",
    "def reverse_extrapolate(sequence: np.ndarray) -> int:\n",
    "    seq = sequence\n",
    "    ext = [seq[0]]\n",
    "    while np.any(seq != 0):\n",
    "        seq = np.diff(seq)\n",
    "        ext.append(seq[0])\n",
    "    return np.sum(ext[::2]) - np.sum(ext[1::2])\n",
    "\n",
    "def part1(filename: str) -> int:\n",
    "    data = read_data(filename)\n",
    "    return sum([extrapolate(d) for d in data])\n",
    "\n",
    "def part2(filename: str) -> int:\n",
    "    data = read_data(filename)\n",
    "    return sum([reverse_extrapolate(d) for d in data])"
   ]
  },
  {
   "cell_type": "code",
   "execution_count": 132,
   "id": "d60d4a30",
   "metadata": {},
   "outputs": [
    {
     "data": {
      "text/plain": [
       "114"
      ]
     },
     "execution_count": 132,
     "metadata": {},
     "output_type": "execute_result"
    }
   ],
   "source": [
    "part1('2023-12-09 AoC example data.txt')"
   ]
  },
  {
   "cell_type": "code",
   "execution_count": 133,
   "id": "9f088d06",
   "metadata": {},
   "outputs": [
    {
     "data": {
      "text/plain": [
       "1939607039"
      ]
     },
     "execution_count": 133,
     "metadata": {},
     "output_type": "execute_result"
    }
   ],
   "source": [
    "part1('2023-12-09 AoC data.txt')"
   ]
  },
  {
   "cell_type": "code",
   "execution_count": 134,
   "id": "24dbd48b",
   "metadata": {},
   "outputs": [
    {
     "data": {
      "text/plain": [
       "2"
      ]
     },
     "execution_count": 134,
     "metadata": {},
     "output_type": "execute_result"
    }
   ],
   "source": [
    "part2('2023-12-09 AoC example data.txt')"
   ]
  },
  {
   "cell_type": "code",
   "execution_count": 135,
   "id": "a083091d",
   "metadata": {},
   "outputs": [
    {
     "data": {
      "text/plain": [
       "1041"
      ]
     },
     "execution_count": 135,
     "metadata": {},
     "output_type": "execute_result"
    }
   ],
   "source": [
    "part2('2023-12-09 AoC data.txt')"
   ]
  }
 ],
 "metadata": {
  "kernelspec": {
   "display_name": "Python 3 (ipykernel)",
   "language": "python",
   "name": "python3"
  },
  "language_info": {
   "codemirror_mode": {
    "name": "ipython",
    "version": 3
   },
   "file_extension": ".py",
   "mimetype": "text/x-python",
   "name": "python",
   "nbconvert_exporter": "python",
   "pygments_lexer": "ipython3",
   "version": "3.11.1"
  }
 },
 "nbformat": 4,
 "nbformat_minor": 5
}
