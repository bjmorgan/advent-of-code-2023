{
 "cells": [
  {
   "cell_type": "markdown",
   "id": "4ff3d61e",
   "metadata": {},
   "source": [
    "# Day 5\n",
    "\n",
    "https://adventofcode.com/2023/day/5"
   ]
  },
  {
   "cell_type": "code",
   "execution_count": 1,
   "id": "c90822fa",
   "metadata": {},
   "outputs": [],
   "source": [
    "from copy import copy\n",
    "from dataclasses import dataclass\n",
    "\n",
    "import matplotlib.pyplot as plt\n",
    "%matplotlib inline\n",
    "%config InlineBackend.figure_format='retina'\n",
    "\n",
    "import numpy as np\n",
    "\n",
    "@dataclass\n",
    "class MappingData():\n",
    "    destination: int\n",
    "    source: int\n",
    "    mrange: int\n",
    "        \n",
    "    @property\n",
    "    def min_source(self):\n",
    "        return self.source\n",
    "    \n",
    "    @property\n",
    "    def max_source(self):\n",
    "        return self.source + self.mrange - 1\n",
    "    \n",
    "    @property\n",
    "    def min_destination(self):\n",
    "        return self.destination\n",
    "    \n",
    "    @property\n",
    "    def max_destination(self):\n",
    "        return self.destination + self.mrange + 1\n",
    "    \n",
    "    @property\n",
    "    def shift(self):\n",
    "        return self.destination - self.source\n",
    "    \n",
    "    def map(self, i: int) -> int:\n",
    "        return i + self.shift\n",
    "    \n",
    "    def __hash__(self) -> int:\n",
    "        return hash((self.destination, self.source, self.mrange))\n",
    "    \n",
    "    def __repr__(self) -> str:\n",
    "        return f'({id(self)} {self.min_source}–{self.max_source})->({self.min_destination}-{self.max_destination}) [{self.shift:+}]'\n",
    "        \n",
    "\n",
    "class Mapping():\n",
    "    # First attempt. Realised this is too slow to construct for the real data.\n",
    "    \n",
    "    def __init__(self, name, mapping_data):\n",
    "        self.name = name\n",
    "        self.mapping = {}\n",
    "        for md in mapping_data:\n",
    "            destination, source, mrange = md\n",
    "            for i in range(mrange):\n",
    "                self.mapping[source+i] = destination+i\n",
    "        \n",
    "    def map(self, i: int) -> int:\n",
    "        mapping = self.mapping.get(i)\n",
    "        if mapping:\n",
    "            return mapping\n",
    "        else:\n",
    "            return i\n",
    "        \n",
    "class Range:\n",
    "    \n",
    "    def __init__(self, lower, upper) -> None:\n",
    "        self.lower = lower\n",
    "        self.upper = upper\n",
    "        \n",
    "    def __repr__(self) -> str:\n",
    "        return f\"Range: {self.lower} -> {self.upper}\"\n",
    "        \n",
    "        \n",
    "class LookupMapping():\n",
    "    # Generate mappings on the fly.\n",
    "    \n",
    "    def __init__(self, name, mapping_data):\n",
    "        self.name = name\n",
    "        self.mapping_data = sorted([MappingData(*md) for md in mapping_data],\n",
    "                                   key=lambda x: x.source)\n",
    "        \n",
    "    def map(self, i: int) -> int:\n",
    "        for md in self.mapping_data:\n",
    "            if (i >= md.min_source) and (i <= md.max_source):\n",
    "                return i + md.shift\n",
    "        return i\n",
    "    \n",
    "    def map_ranges(self, ranges: list[Range]) -> list[Range]:\n",
    "        ranges = copy(ranges)\n",
    "        mapped_ranges = []\n",
    "        while ranges:\n",
    "            r = ranges.pop()\n",
    "            mp_lower = self.mapping_path(r.lower)\n",
    "            mp_upper = self.mapping_path(r.upper)\n",
    "            if mp_lower == mp_upper:\n",
    "                # if the lower and upper limits of a range follow the same mapping\n",
    "                # we can map the whole range by mapping the lower and upper limits\n",
    "                mapped_ranges.append(Range(self.map(r.lower), self.map(r.upper)))\n",
    "            else: # we need to split the range into two and map these separately\n",
    "                if mp_lower:\n",
    "                    # if a mapping exists for the lower limit, map up to the upper source value\n",
    "                    # for that mapping\n",
    "                    mapped_ranges.append(Range(self.map(r.lower), self.map(mp_lower.max_source)))\n",
    "                    # source values out of bounds for this mapping are split off into a new Range\n",
    "                    # and added back to the stack\n",
    "                    ranges.append(Range(mp_lower.max_source + 1, r.upper))\n",
    "                else:\n",
    "                    # if a mapping does not exist for the lower limit, use the mapping for the\n",
    "                    # upper limit instead.\n",
    "                    # map from the lower source value for that mapping to the upper range limit\n",
    "                    mapped_ranges.append(Range(self.map(mp_upper.min_source), self.map(r.upper)))\n",
    "                    # source values out of bounds for this mapping are split off into a new Range\n",
    "                    # and added back to the stack\n",
    "                    ranges.append(Range(r.lower, mp_upper.min_source - 1))\n",
    "        return mapped_ranges\n",
    "        \n",
    "    \n",
    "    def __str__(self) -> str:\n",
    "        to_return = self.name + ':\\n'\n",
    "        for md in self.mapping_data:\n",
    "            to_return += f'{md.min_source} — {md.max_source} -> {md.min_destination} — {md.max_destination} ({md.shift:+})\\n'\n",
    "        return to_return\n",
    "    \n",
    "    def mapping_path(self, i: int) -> int:\n",
    "        for md in self.mapping_data:\n",
    "            if (i >= md.min_source) and (i <= md.max_source):\n",
    "                return md\n",
    "        return None            \n",
    "\n",
    "\n",
    "def read_input(filename: str) -> [list[int], list[Mapping]]:\n",
    "    with open(filename, 'r') as f:\n",
    "        data = f.read().split('\\n\\n')\n",
    "        seeds = list(map(int, data[0].split()[1:]))\n",
    "        maps = []\n",
    "        for mapping_data in data[1:]:\n",
    "            lines = mapping_data.split('\\n')\n",
    "            name = lines[0][:-1]\n",
    "            mapping_input = [list(map(int, line.split())) for line in lines[1:] if line]\n",
    "            maps.append(LookupMapping(name=name,\n",
    "                                      mapping_data=mapping_input))\n",
    "    return seeds, maps\n",
    "\n",
    "def read_seed_ranges(filename: str) -> list[Range]:\n",
    "    ranges = []\n",
    "    with open(filename, 'r') as f:\n",
    "        data = list(map(int, f.readline().split()[1:]))\n",
    "        for i, j in zip(data[::2], data[1::2]):\n",
    "            ranges.append(Range(i, i+j-1))\n",
    "    return ranges\n",
    "    \n",
    "def seed_to_location(i: int,\n",
    "                     maps: list[LookupMapping]) -> int:\n",
    "    for m in maps:\n",
    "        i = m.map(i)\n",
    "    return i\n",
    "\n",
    "def seed_ranges_to_location(ranges: list[Range], \n",
    "                            maps: list[LookupMapping]) -> int:\n",
    "    for m in maps:\n",
    "        ranges = m.map_ranges(ranges)\n",
    "    return sorted(ranges, key=lambda x: x.lower)[0].lower\n",
    "\n",
    "def part2(filename: str) -> int:\n",
    "    _, maps = read_input(filename)\n",
    "    ranges = read_seed_ranges(filename)\n",
    "    return seed_ranges_to_location(ranges=ranges, maps=maps)\n",
    "\n",
    "def part1(filename: str) -> int:\n",
    "    seeds, maps = read_input(filename)\n",
    "    return min(map(lambda x: seed_to_location(x, maps), seeds))"
   ]
  },
  {
   "cell_type": "code",
   "execution_count": 2,
   "id": "cf38f645",
   "metadata": {},
   "outputs": [
    {
     "data": {
      "text/plain": [
       "35"
      ]
     },
     "execution_count": 2,
     "metadata": {},
     "output_type": "execute_result"
    }
   ],
   "source": [
    "part1('./2021-12-05 AoC example data.txt')"
   ]
  },
  {
   "cell_type": "code",
   "execution_count": 3,
   "id": "232d1291",
   "metadata": {},
   "outputs": [
    {
     "data": {
      "text/plain": [
       "88151870"
      ]
     },
     "execution_count": 3,
     "metadata": {},
     "output_type": "execute_result"
    }
   ],
   "source": [
    "part1('./2021-12-05 AoC data.txt')"
   ]
  },
  {
   "cell_type": "code",
   "execution_count": 4,
   "id": "e66fdd7b",
   "metadata": {},
   "outputs": [
    {
     "data": {
      "text/plain": [
       "46"
      ]
     },
     "execution_count": 4,
     "metadata": {},
     "output_type": "execute_result"
    }
   ],
   "source": [
    "part2('2021-12-05 AoC example data.txt')"
   ]
  },
  {
   "cell_type": "code",
   "execution_count": 5,
   "id": "cf1795a7",
   "metadata": {},
   "outputs": [
    {
     "data": {
      "text/plain": [
       "2008785"
      ]
     },
     "execution_count": 5,
     "metadata": {},
     "output_type": "execute_result"
    }
   ],
   "source": [
    "part2('2021-12-05 AoC data.txt')"
   ]
  },
  {
   "cell_type": "code",
   "execution_count": 6,
   "id": "67743499",
   "metadata": {},
   "outputs": [
    {
     "name": "stdout",
     "output_type": "stream",
     "text": [
      "3.08 ms ± 32.7 µs per loop (mean ± std. dev. of 7 runs, 100 loops each)\n"
     ]
    }
   ],
   "source": [
    "%timeit part2('2021-12-05 AoC data.txt')"
   ]
  }
 ],
 "metadata": {
  "kernelspec": {
   "display_name": "Python 3 (ipykernel)",
   "language": "python",
   "name": "python3"
  },
  "language_info": {
   "codemirror_mode": {
    "name": "ipython",
    "version": 3
   },
   "file_extension": ".py",
   "mimetype": "text/x-python",
   "name": "python",
   "nbconvert_exporter": "python",
   "pygments_lexer": "ipython3",
   "version": "3.11.1"
  }
 },
 "nbformat": 4,
 "nbformat_minor": 5
}
