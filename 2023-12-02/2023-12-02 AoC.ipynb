{
 "cells": [
  {
   "cell_type": "markdown",
   "id": "923ad365",
   "metadata": {},
   "source": [
    "# 2023 Day 2\n",
    "\n",
    "https://adventofcode.com/2023/day/2"
   ]
  },
  {
   "cell_type": "code",
   "execution_count": 1,
   "id": "8fd26e0a",
   "metadata": {},
   "outputs": [],
   "source": [
    "from collections import Counter\n",
    "import numpy as np\n",
    "\n",
    "def new_counter() -> Counter:\n",
    "    return Counter({'red': 0,\n",
    "                    'green': 0,\n",
    "                    'blue': 0})\n",
    "\n",
    "def cube_game(filename: str,\n",
    "              bag: Counter) -> int:\n",
    "    with open(filename, 'r') as f:\n",
    "        lines = f.readlines()\n",
    "    possible_games = 0\n",
    "    for game_id, line in enumerate(lines, 1):\n",
    "        possible = True\n",
    "        for draws in ''.join(line.split(':')[1:]).strip().split('; '):\n",
    "            cubes = new_counter()\n",
    "            for draw in draws.split(', '):\n",
    "                v, k = draw.split(' ')\n",
    "                cubes.update({k: int(v)})\n",
    "            if not cubes <= bag:\n",
    "                possible = False\n",
    "                break\n",
    "        if possible:\n",
    "            possible_games += game_id\n",
    "    return possible_games\n",
    "\n",
    "def max_counter(c1, c2):\n",
    "    mc = new_counter()\n",
    "    for k, v in c1.items():\n",
    "        mc[k] = max(v, c2[k])\n",
    "    return mc\n",
    "\n",
    "def cube_game_2(filename: str) -> int:\n",
    "    with open(filename, 'r') as f:\n",
    "        lines = f.readlines()\n",
    "    min_sum = 0\n",
    "    for game_id, line in enumerate(lines, 1):\n",
    "        min_cubes = new_counter()\n",
    "        for draws in ''.join(line.split(':')[1:]).strip().split('; '):\n",
    "            cubes = new_counter()\n",
    "            for draw in draws.split(', '):\n",
    "                v, k = draw.split(' ')\n",
    "                cubes.update({k: int(v)})\n",
    "            min_cubes = max_counter(min_cubes, cubes)\n",
    "        min_sum += np.prod(list(min_cubes.values()))\n",
    "    return min_sum"
   ]
  },
  {
   "cell_type": "code",
   "execution_count": 2,
   "id": "0b07959a",
   "metadata": {},
   "outputs": [
    {
     "data": {
      "text/plain": [
       "8"
      ]
     },
     "execution_count": 2,
     "metadata": {},
     "output_type": "execute_result"
    }
   ],
   "source": [
    "bag = Counter({'red': 12,\n",
    "               'green': 13,\n",
    "               'blue': 14})\n",
    "\n",
    "filename = './2023-12-02 example data.txt'\n",
    "\n",
    "cube_game(filename, bag=bag)"
   ]
  },
  {
   "cell_type": "code",
   "execution_count": 3,
   "id": "50dd05c9",
   "metadata": {},
   "outputs": [
    {
     "data": {
      "text/plain": [
       "2541"
      ]
     },
     "execution_count": 3,
     "metadata": {},
     "output_type": "execute_result"
    }
   ],
   "source": [
    "bag = Counter({'red': 12,\n",
    "               'green': 13,\n",
    "               'blue': 14})\n",
    "\n",
    "filename = './2023-12-02 data.txt'\n",
    "\n",
    "cube_game(filename, bag=bag)"
   ]
  },
  {
   "cell_type": "code",
   "execution_count": 4,
   "id": "959cdec5",
   "metadata": {},
   "outputs": [
    {
     "data": {
      "text/plain": [
       "2286"
      ]
     },
     "execution_count": 4,
     "metadata": {},
     "output_type": "execute_result"
    }
   ],
   "source": [
    "cube_game_2('2023-12-02 example data.txt')"
   ]
  },
  {
   "cell_type": "code",
   "execution_count": 5,
   "id": "64a906a9",
   "metadata": {},
   "outputs": [
    {
     "data": {
      "text/plain": [
       "66016"
      ]
     },
     "execution_count": 5,
     "metadata": {},
     "output_type": "execute_result"
    }
   ],
   "source": [
    "cube_game_2('2023-12-02 data.txt')"
   ]
  }
 ],
 "metadata": {
  "kernelspec": {
   "display_name": "Python 3 (ipykernel)",
   "language": "python",
   "name": "python3"
  },
  "language_info": {
   "codemirror_mode": {
    "name": "ipython",
    "version": 3
   },
   "file_extension": ".py",
   "mimetype": "text/x-python",
   "name": "python",
   "nbconvert_exporter": "python",
   "pygments_lexer": "ipython3",
   "version": "3.11.1"
  }
 },
 "nbformat": 4,
 "nbformat_minor": 5
}
