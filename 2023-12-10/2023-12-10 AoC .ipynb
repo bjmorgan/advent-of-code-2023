{
 "cells": [
  {
   "cell_type": "markdown",
   "id": "74ea2bad",
   "metadata": {},
   "source": [
    "# Day 10\n",
    "\n",
    "https://adventofcode.com/2023/day/10"
   ]
  },
  {
   "cell_type": "code",
   "execution_count": 337,
   "id": "fc546caf",
   "metadata": {},
   "outputs": [],
   "source": [
    "def read_pipe_map(filename):\n",
    "    with open(filename, 'r') as f:\n",
    "        return np.array([list(line) for line in [line.strip() for line in f.readlines()]])\n",
    "    \n",
    "def get_neighbours(pipe_map, loc):\n",
    "    l = np.array(loc)\n",
    "    neigh = []\n",
    "    \n",
    "    if pipe_map[loc] in \"S|F7\" and loc[0] < pipe_map.shape[0]:\n",
    "        if pipe_map[(l[0]+1, l[1])] in \"|LJ\":\n",
    "            neigh.append((l[0]+1, l[1]))\n",
    "    if pipe_map[loc] in \"S|LJ\" and loc[0] > 0:\n",
    "        if pipe_map[(l[0]-1, l[1])] in \"|F7\":\n",
    "            neigh.append((l[0]-1, l[1]))\n",
    "    if pipe_map[loc] in \"S-LF\" and loc[1] < pipe_map.shape[1]:\n",
    "        if pipe_map[(l[0], l[1]+1)] in \"-7J\":\n",
    "            neigh.append((l[0], l[1]+1))\n",
    "    if pipe_map[loc] in \"S-7J\" and loc[1] > 0:\n",
    "        if pipe_map[(l[0], l[1]-1)] in \"-LF\":\n",
    "            neigh.append((l[0], l[1]-1))\n",
    "    return neigh\n",
    "\n",
    "def find_pipe(pipe_map: np.ndarray) -> (int, list[tuple[int, int]]):\n",
    "    loc = tuple(int(x[0]) for x in np.where(pipe_map == 'S'))\n",
    "    p_now = get_neighbours(pipe_map, loc)\n",
    "    p_last = (loc)\n",
    "    distance = 0\n",
    "    seen = [loc, *p_now]\n",
    "    while -1:\n",
    "        distance += 1\n",
    "        p_next = []\n",
    "        for p in p_now:\n",
    "            for n in get_neighbours(pipe_map, p):\n",
    "                if n not in p_last:\n",
    "                    p_next.append(n)\n",
    "        p_last = p_now\n",
    "        p_now = p_next\n",
    "        seen.extend(p_now)\n",
    "        if p_now[0] == p_now[1]:\n",
    "            break\n",
    "    return distance+1, seen\n",
    "\n",
    "def get_shape(loc, n1, n2):\n",
    "    loc = np.array(loc)\n",
    "    n1 = np.array(n1)\n",
    "    n2 = np.array(n2)\n",
    "    match sorted([tuple(n1-loc), tuple(n2-loc)]):\n",
    "        case [(0,1), (1,0)]:\n",
    "            return 'F'\n",
    "        case [(0,-1), (0, 1)]:\n",
    "            return '-'\n",
    "        case [(-1, 0), (1, 0)]:\n",
    "            return '|'\n",
    "        case [(-1, 0), (0, 1)]:\n",
    "            return 'L'\n",
    "        case [(0, -1), (0, -1)]:\n",
    "            return 'J'\n",
    "        case [(0, -1), (1, 0)]:\n",
    "            return '7'\n",
    "        case _:\n",
    "            raise ValueError\n",
    "            \n",
    "def count_inside(pipe_map):\n",
    "    d, seen = find_pipe(pipe_map)\n",
    "    a = np.zeros_like(pipe_map, dtype=int)\n",
    "    for s in seen:\n",
    "        a[s] = 1\n",
    "    p = np.where(a, pipe_map, '.')\n",
    "    p = np.where(p == 'S', get_shape(*seen[:3]), p)\n",
    "    inside = 0\n",
    "    for row in p:\n",
    "        state = -1\n",
    "        old_state = 0\n",
    "        # -1 if we are outside\n",
    "        # 1 if we are inside\n",
    "        # 2 if we are on an edge after 'L'\n",
    "        # 3 if we are on an edge after 'F'\n",
    "        for c in row:\n",
    "            match c:\n",
    "                case '|':\n",
    "                    state *= -1\n",
    "                case 'L':\n",
    "                    old_state = state\n",
    "                    state = 2\n",
    "                case 'F':\n",
    "                    old_state = state\n",
    "                    state = 3\n",
    "                case '7':\n",
    "                    if state == 2:\n",
    "                        state = old_state * -1\n",
    "                    else:\n",
    "                        state = old_state\n",
    "                case 'J':\n",
    "                    if state == 3:\n",
    "                        state = old_state * -1\n",
    "                    else:\n",
    "                        state = old_state\n",
    "                case '.':\n",
    "                    if state == 1:\n",
    "                        inside += 1\n",
    "    return inside\n",
    "\n",
    "def part1(filename):\n",
    "    pipe_map = read_pipe_map(filename)\n",
    "    return find_pipe(pipe_map)[0]\n",
    "\n",
    "def part2(filename):\n",
    "    pipe_map = read_pipe_map(filename)\n",
    "    return count_inside(pipe_map)"
   ]
  },
  {
   "cell_type": "code",
   "execution_count": 338,
   "id": "7b510b63",
   "metadata": {},
   "outputs": [
    {
     "data": {
      "text/plain": [
       "6886"
      ]
     },
     "execution_count": 338,
     "metadata": {},
     "output_type": "execute_result"
    }
   ],
   "source": [
    "part1('2023-12-10 AoC data.txt')"
   ]
  },
  {
   "cell_type": "code",
   "execution_count": 339,
   "id": "cf08aeff",
   "metadata": {},
   "outputs": [
    {
     "data": {
      "text/plain": [
       "371"
      ]
     },
     "execution_count": 339,
     "metadata": {},
     "output_type": "execute_result"
    }
   ],
   "source": [
    "part2('2023-12-10 AoC data.txt')"
   ]
  }
 ],
 "metadata": {
  "kernelspec": {
   "display_name": "Python 3 (ipykernel)",
   "language": "python",
   "name": "python3"
  },
  "language_info": {
   "codemirror_mode": {
    "name": "ipython",
    "version": 3
   },
   "file_extension": ".py",
   "mimetype": "text/x-python",
   "name": "python",
   "nbconvert_exporter": "python",
   "pygments_lexer": "ipython3",
   "version": "3.11.1"
  }
 },
 "nbformat": 4,
 "nbformat_minor": 5
}
