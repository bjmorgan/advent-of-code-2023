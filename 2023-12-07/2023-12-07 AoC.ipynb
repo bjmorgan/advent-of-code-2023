{
 "cells": [
  {
   "cell_type": "code",
   "execution_count": 140,
   "id": "d2257cc1",
   "metadata": {},
   "outputs": [],
   "source": [
    "from collections import Counter\n",
    "\n",
    "filename = '2023-12-07 AoC example data.txt'\n",
    "\n",
    "class Card():\n",
    "    \n",
    "    def __init__(self, label: str) -> None:\n",
    "        self.label = label\n",
    "        \n",
    "    @property\n",
    "    def score(self):\n",
    "        return next(i for i, v in enumerate('23456789TJQKA') if v == self.label)\n",
    "    \n",
    "    def __gt__(self, other) -> bool:\n",
    "        return self.score > other.score\n",
    "    \n",
    "    def __repr__(self) -> str:\n",
    "        return self.label\n",
    "    \n",
    "    def __eq__(self, other) -> bool:\n",
    "        return self.score == other.score\n",
    "    \n",
    "    def __hash__(self) -> int:\n",
    "        return self.score\n",
    "    \n",
    "class JCard(Card):\n",
    "    \n",
    "    @property\n",
    "    def score(self):\n",
    "        return next(i for i, v in enumerate('J23456789TQKA') if v == self.label)\n",
    "    \n",
    "class Hand():\n",
    "    \n",
    "    types = {0: 'High card',\n",
    "             1: 'One pair',\n",
    "             2: 'Two pair',\n",
    "             3: 'Three of a kind',\n",
    "             4: 'Full house',\n",
    "             5: 'Four of a kind',\n",
    "             6: 'Five of a kind'}\n",
    "    \n",
    "    def __init__(self, cards: list[Card], bid: int) -> None:\n",
    "        self.cards = cards\n",
    "        self.bid = bid\n",
    "        \n",
    "    def __repr__(self) -> str:\n",
    "        return f\"{''.join(c.label for c in self.cards)} {self.bid}\"\n",
    "    \n",
    "    def cards_str(self) -> str:\n",
    "        return f\"{''.join(c.label for c in self.cards)}\"\n",
    "    \n",
    "    def __gt__(self, other) -> bool:\n",
    "        if self.type > other.type:\n",
    "            return True\n",
    "        elif self.type < other.type:\n",
    "            return False\n",
    "        else:\n",
    "            for c1, c2 in zip(self.cards, other.cards):\n",
    "                if c1 > c2:\n",
    "                    return True\n",
    "                elif c1 < c2:\n",
    "                    return False\n",
    "        return False\n",
    "    \n",
    "    @property\n",
    "    def type(self) -> int:\n",
    "        type_dict = {(5,): 6,\n",
    "                     (4, 1): 5,\n",
    "                     (3, 2): 4,\n",
    "                     (3, 1, 1): 3,\n",
    "                     (2, 2, 1): 2,\n",
    "                     (2, 1, 1, 1): 1,\n",
    "                     (1, 1, 1, 1, 1): 0}\n",
    "        return type_dict[self.counts]\n",
    "    \n",
    "    @property\n",
    "    def counts(self) -> tuple[int, ...]:\n",
    "        return tuple(sorted(list(Counter(self.cards).values()))[::-1])\n",
    "    \n",
    "class JHand(Hand):\n",
    "    \n",
    "    @property\n",
    "    def counts(self) -> (int, tuple[int, ...]):\n",
    "        n_jokers = sum([1 for card in self.cards if card.label == 'J'])\n",
    "        not_jokers = tuple(sorted(list(\n",
    "            Counter([card for card in self.cards if card.label != 'J']).values()))[::-1])\n",
    "#         print(self.cards, not_jokers)\n",
    "        if len(not_jokers) > 0:\n",
    "            return not_jokers[0] + n_jokers, *not_jokers[1:]\n",
    "        else:\n",
    "            return (5,)\n",
    "    \n",
    "\n",
    "def read_data(filename: str,\n",
    "              jokers: bool=False) -> list[Hand]:\n",
    "    with open(filename, 'r') as f:\n",
    "        hands = []\n",
    "        lines = [line.strip().split() for line in f.readlines()]\n",
    "        for l in lines:\n",
    "            if jokers:\n",
    "                hands.append(JHand(cards=[JCard(v) for v in l[0]], bid=int(l[1])))\n",
    "            else:\n",
    "                hands.append(Hand(cards=[Card(v) for v in l[0]], bid=int(l[1])))\n",
    "    return hands\n",
    "\n",
    "def part1(filename: str) -> int:\n",
    "    hands = read_data(filename)\n",
    "    return sum([h.bid * i for i, h in enumerate(sorted(hands), 1)])\n",
    "\n",
    "def part2(filename: str) -> int:\n",
    "    hands = read_data(filename, jokers=True)\n",
    "    return sum([h.bid * i for i, h in enumerate(sorted(hands), 1)])"
   ]
  },
  {
   "cell_type": "code",
   "execution_count": 141,
   "id": "bb667cbf",
   "metadata": {},
   "outputs": [
    {
     "data": {
      "text/plain": [
       "6440"
      ]
     },
     "execution_count": 141,
     "metadata": {},
     "output_type": "execute_result"
    }
   ],
   "source": [
    "part1('2023-12-07 AoC example data.txt')"
   ]
  },
  {
   "cell_type": "code",
   "execution_count": 142,
   "id": "3f38e73a",
   "metadata": {},
   "outputs": [
    {
     "data": {
      "text/plain": [
       "251806792"
      ]
     },
     "execution_count": 142,
     "metadata": {},
     "output_type": "execute_result"
    }
   ],
   "source": [
    "part1('2023-12-07 AoC data.txt')"
   ]
  },
  {
   "cell_type": "code",
   "execution_count": 143,
   "id": "04ac30ba",
   "metadata": {},
   "outputs": [
    {
     "data": {
      "text/plain": [
       "5905"
      ]
     },
     "execution_count": 143,
     "metadata": {},
     "output_type": "execute_result"
    }
   ],
   "source": [
    "part2('2023-12-07 AoC example data.txt')"
   ]
  },
  {
   "cell_type": "code",
   "execution_count": 148,
   "id": "2033532f",
   "metadata": {},
   "outputs": [
    {
     "data": {
      "text/plain": [
       "252113488"
      ]
     },
     "execution_count": 148,
     "metadata": {},
     "output_type": "execute_result"
    }
   ],
   "source": [
    "part2('2023-12-07 AoC data.txt')"
   ]
  }
 ],
 "metadata": {
  "kernelspec": {
   "display_name": "Python 3 (ipykernel)",
   "language": "python",
   "name": "python3"
  },
  "language_info": {
   "codemirror_mode": {
    "name": "ipython",
    "version": 3
   },
   "file_extension": ".py",
   "mimetype": "text/x-python",
   "name": "python",
   "nbconvert_exporter": "python",
   "pygments_lexer": "ipython3",
   "version": "3.11.1"
  }
 },
 "nbformat": 4,
 "nbformat_minor": 5
}
