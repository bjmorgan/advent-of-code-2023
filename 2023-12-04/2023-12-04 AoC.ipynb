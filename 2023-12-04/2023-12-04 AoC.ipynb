{
 "cells": [
  {
   "cell_type": "code",
   "execution_count": 1,
   "id": "ffbdb36f",
   "metadata": {},
   "outputs": [],
   "source": [
    "from dataclasses import dataclass\n",
    "import numpy as np\n",
    "\n",
    "@dataclass\n",
    "class Card():\n",
    "    winning_numbers: set[int]\n",
    "    numbers: set[int]\n",
    "        \n",
    "    @property\n",
    "    def matching_numbers(self) -> set[int]:\n",
    "        return self.winning_numbers & self.numbers\n",
    "        \n",
    "    @property\n",
    "    def points(self) -> int:\n",
    "        wins = len(self.matching_numbers)\n",
    "        if wins > 0:\n",
    "            return 2**(wins-1)\n",
    "        else:\n",
    "            return 0\n",
    "        \n",
    "def cards_from_input_file(filename: str) -> list[Card]:\n",
    "    cards = []\n",
    "    with open(filename, 'r') as f:\n",
    "        for line in f.readlines():\n",
    "            winning_numbers_str, numbers_str = line.strip().split(': ')[1].split(' | ')\n",
    "            winning_numbers = set(map(int, winning_numbers_str.split()))\n",
    "            numbers = set(map(int, numbers_str.split()))\n",
    "            cards.append(Card(winning_numbers=winning_numbers,\n",
    "                              numbers=numbers))\n",
    "        return cards\n",
    "\n",
    "def part_1(filename: str) -> int:\n",
    "    cards = cards_from_input_file(filename)\n",
    "    return sum([c.points for c in cards])\n",
    "\n",
    "def part_2(filename: str) -> int:\n",
    "    cards = cards_from_input_file(filename)\n",
    "    n_cards = np.ones(len(cards), dtype=int)\n",
    "    for i, card in enumerate(cards):\n",
    "        m = len(card.matching_numbers)\n",
    "        n_cards[i+1:min(i+1+m, len(cards))] += n_cards[i]\n",
    "    return(np.sum(n_cards))"
   ]
  },
  {
   "cell_type": "code",
   "execution_count": 2,
   "id": "cad9436f",
   "metadata": {},
   "outputs": [
    {
     "data": {
      "text/plain": [
       "13"
      ]
     },
     "execution_count": 2,
     "metadata": {},
     "output_type": "execute_result"
    }
   ],
   "source": [
    "part_1('./2023-12-04 example data.txt')"
   ]
  },
  {
   "cell_type": "code",
   "execution_count": 3,
   "id": "069f40d6",
   "metadata": {},
   "outputs": [
    {
     "data": {
      "text/plain": [
       "19855"
      ]
     },
     "execution_count": 3,
     "metadata": {},
     "output_type": "execute_result"
    }
   ],
   "source": [
    "part_1('./2023-12-04 data.txt')"
   ]
  },
  {
   "cell_type": "code",
   "execution_count": 4,
   "id": "088059d6",
   "metadata": {},
   "outputs": [
    {
     "data": {
      "text/plain": [
       "30"
      ]
     },
     "execution_count": 4,
     "metadata": {},
     "output_type": "execute_result"
    }
   ],
   "source": [
    "part_2('./2023-12-04 example data.txt')"
   ]
  },
  {
   "cell_type": "code",
   "execution_count": 5,
   "id": "d017fd87",
   "metadata": {},
   "outputs": [
    {
     "data": {
      "text/plain": [
       "10378710"
      ]
     },
     "execution_count": 5,
     "metadata": {},
     "output_type": "execute_result"
    }
   ],
   "source": [
    "part_2('./2023-12-04 data.txt')"
   ]
  }
 ],
 "metadata": {
  "kernelspec": {
   "display_name": "Python 3 (ipykernel)",
   "language": "python",
   "name": "python3"
  },
  "language_info": {
   "codemirror_mode": {
    "name": "ipython",
    "version": 3
   },
   "file_extension": ".py",
   "mimetype": "text/x-python",
   "name": "python",
   "nbconvert_exporter": "python",
   "pygments_lexer": "ipython3",
   "version": "3.11.1"
  }
 },
 "nbformat": 4,
 "nbformat_minor": 5
}
