{
 "cells": [
  {
   "cell_type": "markdown",
   "id": "944db28a",
   "metadata": {},
   "source": [
    "# 2023 Day 1\n",
    "\n",
    "https://adventofcode.com/2023/day/1"
   ]
  },
  {
   "cell_type": "code",
   "execution_count": 2,
   "id": "7fec53b1",
   "metadata": {},
   "outputs": [],
   "source": [
    "import re\n",
    "\n",
    "def num_from_input_line(line: str) -> int:\n",
    "    digits = re.findall(r'(\\d)', line)\n",
    "    num = int(digits[0])*10 + int(digits[-1])\n",
    "    return num\n",
    "\n",
    "def parse_data_from_file(filename: str,\n",
    "                         parser: callable) -> int:\n",
    "    with open(filename, 'r') as f:\n",
    "        return(sum(list(map(parser,f.readlines()))))"
   ]
  },
  {
   "cell_type": "code",
   "execution_count": 3,
   "id": "27f93bd0",
   "metadata": {},
   "outputs": [],
   "source": [
    "to_sub = {'one': 1,\n",
    "          'two': 2,\n",
    "          'three': 3,\n",
    "          'four': 4,\n",
    "          'five': 5,\n",
    "          'six': 6,\n",
    "          'seven': 7,\n",
    "          'eight': 8,\n",
    "          'nine': 9}\n",
    "\n",
    "def parse_line(line: str) -> int:\n",
    "    i = 0\n",
    "    d1 = None\n",
    "    while not d1:\n",
    "        if line[i] in '123456789':\n",
    "            d1 = int(line[i])\n",
    "        else:\n",
    "            for k, v in to_sub.items():\n",
    "                if re.match(f'^{k}', line[i:]):\n",
    "                    d1 = v\n",
    "                    break\n",
    "        i += 1\n",
    "    j = len(line)-1\n",
    "    d2 = None\n",
    "    while not d2:\n",
    "        if line[j] in '123456789':\n",
    "            d2 = int(line[j])\n",
    "        else:\n",
    "            for k, v in to_sub.items():\n",
    "                if re.match(f'^{k}', line[j:]):\n",
    "                    d2 = v\n",
    "                    break\n",
    "        j -= 1\n",
    "    return d1*10 + d2\n"
   ]
  },
  {
   "cell_type": "code",
   "execution_count": 4,
   "id": "0b638c04",
   "metadata": {},
   "outputs": [
    {
     "data": {
      "text/plain": [
       "142"
      ]
     },
     "execution_count": 4,
     "metadata": {},
     "output_type": "execute_result"
    }
   ],
   "source": [
    "# Example data\n",
    "parse_data_from_file(filename='2023-12-01 AoC example data.txt',\n",
    "                     parser=num_from_input_line)"
   ]
  },
  {
   "cell_type": "code",
   "execution_count": 5,
   "id": "0e6e4dd1",
   "metadata": {},
   "outputs": [
    {
     "data": {
      "text/plain": [
       "54708"
      ]
     },
     "execution_count": 5,
     "metadata": {},
     "output_type": "execute_result"
    }
   ],
   "source": [
    "# Puzzle data\n",
    "parse_data_from_file(filename='2023-12-01 AoC data.txt',\n",
    "                     parser=num_from_input_line)"
   ]
  },
  {
   "cell_type": "code",
   "execution_count": 6,
   "id": "872ec9bd",
   "metadata": {},
   "outputs": [
    {
     "data": {
      "text/plain": [
       "281"
      ]
     },
     "execution_count": 6,
     "metadata": {},
     "output_type": "execute_result"
    }
   ],
   "source": [
    "# Example data 2\n",
    "parse_data_from_file(filename='2023-12-01 AoC example data 2.txt',\n",
    "                     parser=parse_line)"
   ]
  },
  {
   "cell_type": "code",
   "execution_count": 7,
   "id": "bac32f7b",
   "metadata": {},
   "outputs": [
    {
     "data": {
      "text/plain": [
       "54087"
      ]
     },
     "execution_count": 7,
     "metadata": {},
     "output_type": "execute_result"
    }
   ],
   "source": [
    "# Puzzle data\n",
    "parse_data_from_file(filename='2023-12-01 AoC data.txt',\n",
    "                     parser=parse_line)"
   ]
  },
  {
   "cell_type": "code",
   "execution_count": null,
   "id": "f8822dae",
   "metadata": {},
   "outputs": [],
   "source": []
  }
 ],
 "metadata": {
  "kernelspec": {
   "display_name": "Python 3 (ipykernel)",
   "language": "python",
   "name": "python3"
  },
  "language_info": {
   "codemirror_mode": {
    "name": "ipython",
    "version": 3
   },
   "file_extension": ".py",
   "mimetype": "text/x-python",
   "name": "python",
   "nbconvert_exporter": "python",
   "pygments_lexer": "ipython3",
   "version": "3.11.1"
  }
 },
 "nbformat": 4,
 "nbformat_minor": 5
}
