{
 "cells": [
  {
   "cell_type": "code",
   "execution_count": 75,
   "id": "c35c0f00",
   "metadata": {},
   "outputs": [],
   "source": [
    "import numpy as np\n",
    "\n",
    "def distance_travelled(t_hold, t_race):\n",
    "    return (t_race - t_hold)*t_hold\n",
    "\n",
    "def quad_roots(a, b, c):\n",
    "    fac = np.sqrt(b**2 - 4*a*c)\n",
    "    return -(b + fac)/(2*a), -(b - fac)/(2*a)\n",
    "\n",
    "def n_ways_to_win(t_race: int, to_beat: int) -> int:\n",
    "    a, b, c = -1, t_race, -to_beat\n",
    "    roots = np.sort(quad_roots(a, b, c))\n",
    "    return int(roots[1]-0.001) - int(roots[0]+0.001)\n",
    "\n",
    "def read_data(filename: str) -> (list[int], list[int]):\n",
    "    with open(filename, 'r') as f:\n",
    "        times = list(map(int, f.readline().split()[1:]))\n",
    "        distances = list(map(int, f.readline().split()[1:]))\n",
    "    return times, distances\n",
    "\n",
    "def part1(filename: str) -> int:\n",
    "    times, distances = read_data(filename)\n",
    "    return np.prod([n_ways_to_win(t, d) for t, d in zip(times, distances)])\n",
    "\n",
    "def part2(filename: str) -> int:\n",
    "    times, distances = read_data(filename)\n",
    "    t = int(''.join([str(i) for i in times]))\n",
    "    d = int(''.join([str(i) for i in distances]))\n",
    "    return n_ways_to_win(t, d)"
   ]
  },
  {
   "cell_type": "code",
   "execution_count": 76,
   "id": "ef575473",
   "metadata": {},
   "outputs": [
    {
     "data": {
      "text/plain": [
       "288"
      ]
     },
     "execution_count": 76,
     "metadata": {},
     "output_type": "execute_result"
    }
   ],
   "source": [
    "part1('2023-12-06 AoC example data.txt')"
   ]
  },
  {
   "cell_type": "code",
   "execution_count": 77,
   "id": "d818ee58",
   "metadata": {},
   "outputs": [
    {
     "data": {
      "text/plain": [
       "1155175"
      ]
     },
     "execution_count": 77,
     "metadata": {},
     "output_type": "execute_result"
    }
   ],
   "source": [
    "part1('2023-12-06 AoC data.txt')"
   ]
  },
  {
   "cell_type": "code",
   "execution_count": 78,
   "id": "eb651de9",
   "metadata": {},
   "outputs": [
    {
     "data": {
      "text/plain": [
       "71503"
      ]
     },
     "execution_count": 78,
     "metadata": {},
     "output_type": "execute_result"
    }
   ],
   "source": [
    "part2('2023-12-06 AoC example data.txt')"
   ]
  },
  {
   "cell_type": "code",
   "execution_count": 79,
   "id": "f5054816",
   "metadata": {},
   "outputs": [
    {
     "data": {
      "text/plain": [
       "35961505"
      ]
     },
     "execution_count": 79,
     "metadata": {},
     "output_type": "execute_result"
    }
   ],
   "source": [
    "part2('2023-12-06 AoC data.txt')"
   ]
  }
 ],
 "metadata": {
  "kernelspec": {
   "display_name": "Python 3 (ipykernel)",
   "language": "python",
   "name": "python3"
  },
  "language_info": {
   "codemirror_mode": {
    "name": "ipython",
    "version": 3
   },
   "file_extension": ".py",
   "mimetype": "text/x-python",
   "name": "python",
   "nbconvert_exporter": "python",
   "pygments_lexer": "ipython3",
   "version": "3.11.1"
  }
 },
 "nbformat": 4,
 "nbformat_minor": 5
}
