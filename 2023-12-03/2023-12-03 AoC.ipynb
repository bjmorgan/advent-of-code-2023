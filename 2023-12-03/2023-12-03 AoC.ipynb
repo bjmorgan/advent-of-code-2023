{
 "cells": [
  {
   "cell_type": "markdown",
   "id": "471e912f",
   "metadata": {},
   "source": [
    "# 2023 Day 3\n",
    "\n",
    "https://adventofcode.com/2023/day/3"
   ]
  },
  {
   "cell_type": "code",
   "execution_count": 116,
   "id": "9a76bc38",
   "metadata": {},
   "outputs": [],
   "source": [
    "import numpy as np\n",
    "from collections import Counter\n",
    "\n",
    "def init_mask(loc) -> set:\n",
    "    locs = []\n",
    "    for i in range(max([0, loc[0]-1]), loc[0]+2):\n",
    "        for j in range(max([0, loc[1]-1]), loc[2]+2):\n",
    "            locs.append((i, j))\n",
    "    return set(locs)\n",
    "    \n",
    "class Number():\n",
    "    \n",
    "    def __init__(self, value, loc):\n",
    "        self.value = value\n",
    "        self.loc = loc\n",
    "        self.mask = init_mask(loc)\n",
    "        \n",
    "    def __str__(self):\n",
    "        return f'{self.value} {self.loc}'\n",
    "    \n",
    "    def is_adjacent_to_loc(self, loc) -> bool:\n",
    "        return loc in self.mask\n",
    "            \n",
    "    \n",
    "class Symbol():\n",
    "    \n",
    "    def __init__(self, symbol, loc):\n",
    "        self.symbol = symbol\n",
    "        self.loc = loc\n",
    "        \n",
    "    def __str__(self):\n",
    "        return f'{self.symbol} {self.loc}'\n",
    "        \n",
    "\n",
    "def parse_input(filename: str) -> [list[Number], list[Symbol]]:\n",
    "    numbers = []\n",
    "    symbols = []\n",
    "    with open(filename, 'r') as f:\n",
    "        for i, line in enumerate(f.readlines()):\n",
    "            line = list(line.strip())\n",
    "            d = []\n",
    "            for j, c in enumerate(line):\n",
    "                if c in '0123456789':\n",
    "                    d.append(c)\n",
    "                else:\n",
    "                    if d:\n",
    "                        numbers.append(Number(value=int(''.join(d)), loc=(i, j-len(d), j-1)))\n",
    "                        d = []\n",
    "                    if c != '.':\n",
    "                        symbols.append(Symbol(c, loc=(i, j)))\n",
    "            if d:\n",
    "                numbers.append(Number(value=int(''.join(d)), loc=(i, j-len(d)+1, j)))\n",
    "    return numbers, symbols\n",
    "    \n",
    "def part_one(filename: str) -> int:\n",
    "    numbers, symbols = parse_input(filename)\n",
    "    part_numbers = []\n",
    "    not_part_numbers = []\n",
    "    for n in numbers:\n",
    "        not_part_number = True\n",
    "        for s in symbols:\n",
    "            if n.is_adjacent_to_loc(s.loc):\n",
    "                not_part_number = False\n",
    "                part_numbers.append(n.value)\n",
    "#                 print(n)\n",
    "                break\n",
    "        if not_part_number:\n",
    "            not_part_numbers.append(n.value)\n",
    "    return sum(part_numbers)\n",
    "\n",
    "def part_two(filename: str) -> int:\n",
    "    numbers, symbols = parse_input(filename)\n",
    "    summed_gear_ratios = 0\n",
    "    for s in symbols:\n",
    "        if s.symbol == '*':\n",
    "            adjacent_numbers = []\n",
    "            for n in numbers:\n",
    "                if n.is_adjacent_to_loc(s.loc):\n",
    "                    adjacent_numbers.append(n.value)\n",
    "            if len(adjacent_numbers) == 2:\n",
    "                summed_gear_ratios += np.prod(adjacent_numbers)\n",
    "    return summed_gear_ratios"
   ]
  },
  {
   "cell_type": "code",
   "execution_count": 117,
   "id": "32dc29ee",
   "metadata": {
    "scrolled": true
   },
   "outputs": [
    {
     "data": {
      "text/plain": [
       "4361"
      ]
     },
     "execution_count": 117,
     "metadata": {},
     "output_type": "execute_result"
    }
   ],
   "source": [
    "part_one('./2023-12-03 example data.txt')"
   ]
  },
  {
   "cell_type": "code",
   "execution_count": 118,
   "id": "9d7d3e27",
   "metadata": {},
   "outputs": [
    {
     "data": {
      "text/plain": [
       "514969"
      ]
     },
     "execution_count": 118,
     "metadata": {},
     "output_type": "execute_result"
    }
   ],
   "source": [
    "part_one('./2023-12-03 data.txt')"
   ]
  },
  {
   "cell_type": "code",
   "execution_count": 119,
   "id": "2e490af5",
   "metadata": {},
   "outputs": [
    {
     "data": {
      "text/plain": [
       "467835"
      ]
     },
     "execution_count": 119,
     "metadata": {},
     "output_type": "execute_result"
    }
   ],
   "source": [
    "part_two('./2023-12-03 example data.txt')"
   ]
  },
  {
   "cell_type": "code",
   "execution_count": 121,
   "id": "a8d5ced2",
   "metadata": {},
   "outputs": [
    {
     "data": {
      "text/plain": [
       "78915902"
      ]
     },
     "execution_count": 121,
     "metadata": {},
     "output_type": "execute_result"
    }
   ],
   "source": [
    "part_two('./2023-12-03 data.txt')"
   ]
  }
 ],
 "metadata": {
  "kernelspec": {
   "display_name": "Python 3 (ipykernel)",
   "language": "python",
   "name": "python3"
  },
  "language_info": {
   "codemirror_mode": {
    "name": "ipython",
    "version": 3
   },
   "file_extension": ".py",
   "mimetype": "text/x-python",
   "name": "python",
   "nbconvert_exporter": "python",
   "pygments_lexer": "ipython3",
   "version": "3.11.1"
  }
 },
 "nbformat": 4,
 "nbformat_minor": 5
}
