{
 "cells": [
  {
   "cell_type": "markdown",
   "id": "50516023",
   "metadata": {},
   "source": [
    "# Day 8\n",
    "\n",
    "https://adventofcode.com/2023/day/8"
   ]
  },
  {
   "cell_type": "code",
   "execution_count": 77,
   "id": "188b8cc0",
   "metadata": {},
   "outputs": [],
   "source": [
    "import re\n",
    "from collections import deque\n",
    "import math\n",
    "\n",
    "def read_data(filename: str) -> (deque, dict):\n",
    "    with open(filename, 'r') as f:\n",
    "        instructions = f.readline().strip()\n",
    "        instructions = deque(instructions, maxlen=len(instructions))\n",
    "        f.readline()\n",
    "        data = [line.strip() for line in f.readlines()]\n",
    "    nodes = {}\n",
    "    for line in data:\n",
    "        strings = re.findall('[1-9A-Z]{3}', line)\n",
    "        nodes[strings[0]] = {'L': strings[1],\n",
    "                             'R': strings[2]}\n",
    "    return instructions, nodes\n",
    "    \n",
    "def follow_path(nodes: dict,\n",
    "                instructions: deque) -> int:\n",
    "    n = 'AAA'\n",
    "    steps = 0\n",
    "    while n != 'ZZZ':\n",
    "        i = instructions[0]\n",
    "        n = nodes[n][i]\n",
    "        steps += 1\n",
    "        instructions.rotate(-1)\n",
    "    return steps\n",
    "\n",
    "def follow_ghost_paths(nodes: dict,\n",
    "                       instructions: deque) -> int:\n",
    "    \"\"\"For traversing ghost paths in parallel, we don't want to brute force walk all\n",
    "       paths until every path finds a destination. Instead we walk each path once.\n",
    "       If each path loops back to its second node (this seems to be the case in the real input\n",
    "       data) then the number of steps needed for *every* path to reach its destination\n",
    "       simultaneously is the lowest common multiple of the numbers of steps for each \n",
    "       individual path to reach its destination once.\n",
    "       \n",
    "       Note: if each path did not loop back to its second node then we would need to visit\n",
    "       each path destination twice, although presumably this makes the maths much more complicated\n",
    "       for calculating the steps to reach all destinations simultaneously.\"\"\"\n",
    "    starting_nodes = [key for key in nodes.keys() if key[-1] == 'A']\n",
    "    cycle_length = [0] * len(starting_nodes)\n",
    "    n = starting_nodes\n",
    "    steps = 0\n",
    "    while sum([node[-1] == 'Z' for node in n]) != len(n):\n",
    "        i = instructions[0]\n",
    "        n = [nodes[node][i] for node in n]\n",
    "        steps += 1\n",
    "        instructions.rotate(-1)\n",
    "        for i, node in enumerate(n):\n",
    "            if node[-1] == 'Z':\n",
    "                if cycle_length[i] == 0:\n",
    "                    cycle_length[i] = steps\n",
    "        if sum([c > 0 for c in cycle_length]) == len(cycle_length):\n",
    "            break\n",
    "    return math.lcm(*cycle_length)\n",
    "\n",
    "def part1(filename: str) -> int:\n",
    "    instructions, nodes = read_data(filename)\n",
    "    return follow_path(nodes, instructions)\n",
    "\n",
    "def part2(filename: str) -> int:\n",
    "    instructions, nodes = read_data(filename)\n",
    "    return follow_ghost_paths(nodes, instructions)"
   ]
  },
  {
   "cell_type": "code",
   "execution_count": 78,
   "id": "fd609318",
   "metadata": {},
   "outputs": [
    {
     "data": {
      "text/plain": [
       "15517"
      ]
     },
     "execution_count": 78,
     "metadata": {},
     "output_type": "execute_result"
    }
   ],
   "source": [
    "part1('2023-12-08 AoC data.txt')"
   ]
  },
  {
   "cell_type": "code",
   "execution_count": 79,
   "id": "72a6ee9c",
   "metadata": {},
   "outputs": [
    {
     "data": {
      "text/plain": [
       "6"
      ]
     },
     "execution_count": 79,
     "metadata": {},
     "output_type": "execute_result"
    }
   ],
   "source": [
    "part2('2023-12-08 AoC example data 3.txt')"
   ]
  },
  {
   "cell_type": "code",
   "execution_count": 80,
   "id": "20e56cbc",
   "metadata": {},
   "outputs": [
    {
     "data": {
      "text/plain": [
       "14935034899483"
      ]
     },
     "execution_count": 80,
     "metadata": {},
     "output_type": "execute_result"
    }
   ],
   "source": [
    "part2('2023-12-08 AoC data.txt')"
   ]
  }
 ],
 "metadata": {
  "kernelspec": {
   "display_name": "Python 3 (ipykernel)",
   "language": "python",
   "name": "python3"
  },
  "language_info": {
   "codemirror_mode": {
    "name": "ipython",
    "version": 3
   },
   "file_extension": ".py",
   "mimetype": "text/x-python",
   "name": "python",
   "nbconvert_exporter": "python",
   "pygments_lexer": "ipython3",
   "version": "3.11.1"
  }
 },
 "nbformat": 4,
 "nbformat_minor": 5
}
